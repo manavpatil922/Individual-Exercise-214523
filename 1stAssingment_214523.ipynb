{
  "nbformat": 4,
  "nbformat_minor": 0,
  "metadata": {
    "colab": {
      "name": "1stAssingment_214523.ipynb",
      "provenance": [],
      "collapsed_sections": [],
      "authorship_tag": "ABX9TyM+9OF59SgXUXvyOuSlvJbA",
      "include_colab_link": true
    },
    "kernelspec": {
      "name": "python3",
      "display_name": "Python 3"
    },
    "language_info": {
      "name": "python"
    }
  },
  "cells": [
    {
      "cell_type": "markdown",
      "metadata": {
        "id": "view-in-github",
        "colab_type": "text"
      },
      "source": [
        "<a href=\"https://colab.research.google.com/github/manavpatil922/Individual-Exercise-214523/blob/main/1stAssingment_214523.ipynb\" target=\"_parent\"><img src=\"https://colab.research.google.com/assets/colab-badge.svg\" alt=\"Open In Colab\"/></a>"
      ]
    },
    {
      "cell_type": "code",
      "execution_count": null,
      "metadata": {
        "id": "XA4n0Z-ZJp8j",
        "colab": {
          "base_uri": "https://localhost:8080/"
        },
        "outputId": "ae2b3d6f-5711-44c2-d80e-ec1b7f3f59ff"
      },
      "outputs": [
        {
          "output_type": "stream",
          "name": "stdout",
          "text": [
            "Enter your name: Manav\n",
            "Hello Manav\n"
          ]
        }
      ],
      "source": [
        "# A program using input\n",
        "name = input('Enter your name:')\n",
        "print('Hello' +  name)\n"
      ]
    },
    {
      "cell_type": "code",
      "source": [
        "#Exercise2: write a program to find payment according to number of hours and rate per hour, \n",
        "hours = float(input('Enter Hours:'))\n",
        "rate = float(input('Enter Rate:'))\n",
        "pay = hours * rate\n",
        "print ('Pay =', pay)"
      ],
      "metadata": {
        "colab": {
          "base_uri": "https://localhost:8080/"
        },
        "id": "1nVAkkOaNyT8",
        "outputId": "4cf401f9-8012-4d45-fc53-2815699ad9c1"
      },
      "execution_count": null,
      "outputs": [
        {
          "output_type": "stream",
          "name": "stdout",
          "text": [
            "Enter Hours:100\n",
            "Enter Rate:1\n",
            "Pay = 100.0\n"
          ]
        }
      ]
    },
    {
      "cell_type": "code",
      "source": [
        "#Exercise 3: Assume that we execute the following assignment statements:\n",
        "#width = 17\n",
        "#height = 12.0\n",
        "\n",
        "width = float(input(\"Enter the Width: \"))\n",
        "height = float(input(\"Enter the Height: \"))\n",
        "\n",
        "print(\"Value is : \", width // 2, \"and type is: \" ,type(width // 2))\n",
        "print(\"Value is : \", width / 2.0 ,\"and type is: \" , type(width / 2.0))\n",
        "print(\"Value is : \", width / 3 ,\"and type is: \" , type(width / 3))\n",
        "print(\"Value is :\" , 1 + 2 * 5,\"and type is: \" , type(1 + 2 * 5))"
      ],
      "metadata": {
        "colab": {
          "base_uri": "https://localhost:8080/"
        },
        "id": "qIMgk13MQnSf",
        "outputId": "f4c1de7d-3cc8-42ba-8779-f90bf069a249"
      },
      "execution_count": null,
      "outputs": [
        {
          "output_type": "stream",
          "name": "stdout",
          "text": [
            "Enter the Width: 17\n",
            "Enter the Height: 12.0\n",
            "Value is :  8.0 and type is:  <class 'float'>\n",
            "Value is :  8.5 and type is:  <class 'float'>\n",
            "Value is :  5.666666666666667 and type is:  <class 'float'>\n",
            "Value is : 11 and type is:  <class 'int'>\n"
          ]
        }
      ]
    },
    {
      "cell_type": "code",
      "source": [
        "#Exercise 4:Write a program which prompts the user for a Celsius temperature, convert the temperature to Fahrenheit, and print out the Result Write a program which prompts the user f\n",
        "\n",
        "temp1 = float(input('Enter temperature in celsius here :'))\n",
        "temp2 = 1.8 * temp1 + 32\n",
        "print(temp2)"
      ],
      "metadata": {
        "colab": {
          "base_uri": "https://localhost:8080/"
        },
        "id": "Cv87qEwnSf4O",
        "outputId": "6c2f2f6e-8dcf-4a95-bd6b-58db67e798f9"
      },
      "execution_count": null,
      "outputs": [
        {
          "output_type": "stream",
          "name": "stdout",
          "text": [
            "Enter temperature in celsius here :56\n",
            "132.8\n"
          ]
        }
      ]
    },
    {
      "cell_type": "code",
      "source": [
        "CHAPTER3"
      ],
      "metadata": {
        "id": "JGwOo1ozTWlK"
      },
      "execution_count": null,
      "outputs": []
    },
    {
      "cell_type": "code",
      "source": [
        "#Exercise 5: Rewrite your pay computation to give the employee 1.5 times the hourly rate for hours worked above 40 hours.\n",
        "#Enter Hours: 45\n",
        "#Enter Rate: 10\n",
        "#Pay: 475.0\n",
        "\n",
        "hours = float(input('Enter Hours:'))\n",
        "rate = float(input('Enter Rate:'))\n",
        "\n",
        "if hours <= 40:\n",
        "  pay = hours * rate\n",
        "else: \n",
        "  pay = ((hours - 40) * (1.5 * rate)) + (40 * rate)\n",
        "\n",
        "print ('Pay =', pay)"
      ],
      "metadata": {
        "colab": {
          "base_uri": "https://localhost:8080/"
        },
        "id": "zJGLo_jjUbXl",
        "outputId": "020e9427-f6b1-470f-9633-47339f0ce9df"
      },
      "execution_count": null,
      "outputs": [
        {
          "output_type": "stream",
          "name": "stdout",
          "text": [
            "Enter Hours:45\n",
            "Enter Rate:10\n",
            "Pay = 475.0\n"
          ]
        }
      ]
    },
    {
      "cell_type": "code",
      "source": [
        "#Exercise 6: Rewrite your pay program using try and except so that your program handles non-numeric input gracefully by \n",
        "#printing a message and exiting the program. The following shows two executions of the program:\n",
        "\n",
        "H = input('Enter Hours:')\n",
        "R = input('Enter Rate:')\n",
        "\n",
        "try:\n",
        "  hours = float(H)\n",
        "  rate = float (R)\n",
        "  if hours <= 40:\n",
        "    pay = hours * rate\n",
        "  else:\n",
        "    pay = ((hours - 40) * (1.5 * rate)) + (40 * rate)\n",
        "  print ('Pay ='), pay\n",
        "except:\n",
        "   print('Error, please enter numeric input')\n",
        "\n",
        "\n",
        "\n"
      ],
      "metadata": {
        "colab": {
          "base_uri": "https://localhost:8080/"
        },
        "id": "6kcrH0M5bsd_",
        "outputId": "7a3efc16-afc6-45f3-a720-d5d8b88c4ef1"
      },
      "execution_count": null,
      "outputs": [
        {
          "output_type": "stream",
          "name": "stdout",
          "text": [
            "Enter Hours:45\n",
            "Enter Rate:nine\n",
            "Error, please enter numeric input\n"
          ]
        }
      ]
    },
    {
      "cell_type": "code",
      "source": [
        "#Exercise 7: Write a program to prompt for a score between 0.0 and 1.0.\n",
        "# If the score is out of range, print an error message. If the score is\n",
        "#between 0.0 and 1.0, print a grade using the following table: \n",
        "#Score Grade  #>= 0.9 A\n",
        "              #>= 0.8 B\n",
        "              #>= 0.7 C\n",
        "              #>= 0.6 D\n",
        "              #< 0.6 F\n",
        "\n",
        "score = input(\"Enter Score: \")\n",
        "s =  float(score)\n",
        "x = 'Error'\n",
        "if s >= 0.9:\n",
        "\tx = 'A'\n",
        "elif s >=0.8:\n",
        "\tx='B'\n",
        "elif s >=0.7:\n",
        "\tx='C'\n",
        "elif s >= 0.6:\n",
        "\tx='D'\n",
        "elif s < .6:\n",
        "\tx ='F'\n",
        "else:\n",
        "  x =\"Out of Range\"\n",
        "print (x)"
      ],
      "metadata": {
        "colab": {
          "base_uri": "https://localhost:8080/"
        },
        "id": "kYVNEsb-qwzn",
        "outputId": "d56eb82a-f9e2-4e5a-d67c-0947bf308451"
      },
      "execution_count": null,
      "outputs": [
        {
          "output_type": "stream",
          "name": "stdout",
          "text": [
            "Enter Score: 0.95\n",
            "A\n"
          ]
        }
      ]
    },
    {
      "cell_type": "code",
      "source": [
        "Year = float (input('year = '))\n",
        "\n",
        "if (Year % 4) == 0 :\n",
        "  print(\"It is a leapyear\")\n",
        "else :\n",
        "  print(\"It is not a leapyear\")\n"
      ],
      "metadata": {
        "colab": {
          "base_uri": "https://localhost:8080/"
        },
        "id": "Cb41gkMj2ZOo",
        "outputId": "136a877f-2cb0-4868-c324-006494f5106b"
      },
      "execution_count": null,
      "outputs": [
        {
          "output_type": "stream",
          "name": "stdout",
          "text": [
            "year = 2003\n",
            "It is not a leapyear\n"
          ]
        }
      ]
    }
  ]
}