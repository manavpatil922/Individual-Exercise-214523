{
  "nbformat": 4,
  "nbformat_minor": 0,
  "metadata": {
    "colab": {
      "name": "my1stpythonprogramme_214523.ipynb",
      "provenance": [],
      "collapsed_sections": []
    },
    "kernelspec": {
      "name": "python3",
      "display_name": "Python 3"
    },
    "language_info": {
      "name": "python"
    }
  },
  "cells": [
    {
      "cell_type": "code",
      "execution_count": null,
      "metadata": {
        "colab": {
          "base_uri": "https://localhost:8080/"
        },
        "id": "lUZE2uxCDyLb",
        "outputId": "a259ee78-3549-48c2-f73a-7d51966e81e7"
      },
      "outputs": [
        {
          "output_type": "stream",
          "name": "stdout",
          "text": [
            "sairam\n"
          ]
        }
      ],
      "source": [
        "print(\"sairam\")"
      ]
    },
    {
      "cell_type": "code",
      "source": [
        ""
      ],
      "metadata": {
        "id": "VsudNUhgu22h"
      },
      "execution_count": null,
      "outputs": []
    },
    {
      "cell_type": "code",
      "source": [
        ""
      ],
      "metadata": {
        "id": "JtUY5Lwzd6dh"
      },
      "execution_count": null,
      "outputs": []
    },
    {
      "cell_type": "code",
      "source": [
        ""
      ],
      "metadata": {
        "id": "Hdba7YHWa9iG"
      },
      "execution_count": null,
      "outputs": []
    },
    {
      "cell_type": "code",
      "source": [
        ""
      ],
      "metadata": {
        "id": "0Uvt69hBBE_v"
      },
      "execution_count": null,
      "outputs": []
    },
    {
      "cell_type": "code",
      "source": [
        "name = \"manav\"\n",
        "print (\"hello \" + name )"
      ],
      "metadata": {
        "colab": {
          "base_uri": "https://localhost:8080/"
        },
        "id": "bGkxg-9o7_R1",
        "outputId": "2663260c-c7df-4886-c931-d10f2da7fffe"
      },
      "execution_count": null,
      "outputs": [
        {
          "output_type": "stream",
          "name": "stdout",
          "text": [
            "hello manav\n"
          ]
        }
      ]
    },
    {
      "cell_type": "code",
      "source": [
        "print(\"enter your name\")"
      ],
      "metadata": {
        "colab": {
          "base_uri": "https://localhost:8080/"
        },
        "id": "T1LTYW2S8nfq",
        "outputId": "4c1dff3c-5edb-4008-f7a5-2c23133f221a"
      },
      "execution_count": null,
      "outputs": [
        {
          "output_type": "stream",
          "name": "stdout",
          "text": [
            "enter your name\n"
          ]
        }
      ]
    },
    {
      "cell_type": "code",
      "source": [
        "print(\"Hello world\")\n",
        "if 1>2 :\n",
        "  print(\"five is greater than two\")\n",
        "else :\n",
        "     print(\"wrong\")"
      ],
      "metadata": {
        "colab": {
          "base_uri": "https://localhost:8080/"
        },
        "id": "9WfyYlEKgDPx",
        "outputId": "afa06c1e-424a-40c7-edc0-547c7a6d5c71"
      },
      "execution_count": null,
      "outputs": [
        {
          "output_type": "stream",
          "name": "stdout",
          "text": [
            "Hello world\n",
            "wrong\n"
          ]
        }
      ]
    },
    {
      "cell_type": "code",
      "source": [
        "a = type (8)\n",
        "print (a)\n",
        "type (6.3)"
      ],
      "metadata": {
        "colab": {
          "base_uri": "https://localhost:8080/"
        },
        "id": "4pm8c2AChFT7",
        "outputId": "02637bc2-0db5-4817-af49-698fe523f963"
      },
      "execution_count": null,
      "outputs": [
        {
          "output_type": "stream",
          "name": "stdout",
          "text": [
            "<class 'int'>\n"
          ]
        },
        {
          "output_type": "execute_result",
          "data": {
            "text/plain": [
              "float"
            ]
          },
          "metadata": {},
          "execution_count": 10
        }
      ]
    },
    {
      "cell_type": "code",
      "source": [
        "str(2)\n"
      ],
      "metadata": {
        "colab": {
          "base_uri": "https://localhost:8080/",
          "height": 35
        },
        "id": "E24LUjv1vRWZ",
        "outputId": "5b628278-167b-4afe-e558-242041a3e690"
      },
      "execution_count": null,
      "outputs": [
        {
          "output_type": "execute_result",
          "data": {
            "application/vnd.google.colaboratory.intrinsic+json": {
              "type": "string"
            },
            "text/plain": [
              "'2'"
            ]
          },
          "metadata": {},
          "execution_count": 11
        }
      ]
    },
    {
      "cell_type": "code",
      "source": [
        "int(False)"
      ],
      "metadata": {
        "colab": {
          "base_uri": "https://localhost:8080/"
        },
        "id": "xNuk4w7Jv5nO",
        "outputId": "deef0e81-fd94-4c53-d581-7097663e8811"
      },
      "execution_count": null,
      "outputs": [
        {
          "output_type": "execute_result",
          "data": {
            "text/plain": [
              "0"
            ]
          },
          "metadata": {},
          "execution_count": 13
        }
      ]
    },
    {
      "cell_type": "code",
      "source": [
        "float(True)"
      ],
      "metadata": {
        "colab": {
          "base_uri": "https://localhost:8080/"
        },
        "id": "LYPulzXmwC9x",
        "outputId": "e7926043-a7a3-40c8-eeea-5acd19dc528d"
      },
      "execution_count": null,
      "outputs": [
        {
          "output_type": "execute_result",
          "data": {
            "text/plain": [
              "1.0"
            ]
          },
          "metadata": {},
          "execution_count": 15
        }
      ]
    },
    {
      "cell_type": "code",
      "source": [
        "x = 16//3\n",
        "print(\"coefficient is\", x)"
      ],
      "metadata": {
        "colab": {
          "base_uri": "https://localhost:8080/"
        },
        "id": "6ixkrQSFyR5w",
        "outputId": "40b87c7e-3b10-43fd-ebb4-4f64323dcee0"
      },
      "execution_count": null,
      "outputs": [
        {
          "output_type": "stream",
          "name": "stdout",
          "text": [
            "coefficient is 5\n"
          ]
        }
      ]
    },
    {
      "cell_type": "code",
      "source": [
        "x = 45%8\n",
        "print(\"remainder is\", x)"
      ],
      "metadata": {
        "colab": {
          "base_uri": "https://localhost:8080/"
        },
        "id": "ecFhkx-RzRwL",
        "outputId": "3462c7c5-669e-42c0-bac1-1e834258c47e"
      },
      "execution_count": null,
      "outputs": [
        {
          "output_type": "stream",
          "name": "stdout",
          "text": [
            "remainder is 5\n"
          ]
        }
      ]
    },
    {
      "cell_type": "code",
      "source": [
        "bool(3)"
      ],
      "metadata": {
        "colab": {
          "base_uri": "https://localhost:8080/"
        },
        "id": "FgKcUsFy04gY",
        "outputId": "d8f8fcfc-cdb4-45ba-b8cd-ade7de42eb18"
      },
      "execution_count": null,
      "outputs": [
        {
          "output_type": "execute_result",
          "data": {
            "text/plain": [
              "True"
            ]
          },
          "metadata": {},
          "execution_count": 19
        }
      ]
    },
    {
      "cell_type": "code",
      "source": [
        "name = \"ronaldo\"\n",
        "print (name[5])"
      ],
      "metadata": {
        "colab": {
          "base_uri": "https://localhost:8080/"
        },
        "id": "pge-sz2R2qZn",
        "outputId": "fc9d86ff-0429-47d9-848b-a906aae5e9ee"
      },
      "execution_count": null,
      "outputs": [
        {
          "output_type": "stream",
          "name": "stdout",
          "text": [
            "d\n"
          ]
        }
      ]
    },
    {
      "cell_type": "code",
      "source": [
        "print (name[-4])"
      ],
      "metadata": {
        "colab": {
          "base_uri": "https://localhost:8080/"
        },
        "id": "Ha2XPJ_Z3nGI",
        "outputId": "30aee57a-3848-470c-9df4-4e2d51dc31d7"
      },
      "execution_count": null,
      "outputs": [
        {
          "output_type": "stream",
          "name": "stdout",
          "text": [
            "a\n"
          ]
        }
      ]
    },
    {
      "cell_type": "code",
      "source": [
        "len ('ronaldo')"
      ],
      "metadata": {
        "colab": {
          "base_uri": "https://localhost:8080/"
        },
        "id": "CKreMvtx3zj-",
        "outputId": "1e0ba023-88cc-428e-dd52-c2d0a2af9ede"
      },
      "execution_count": null,
      "outputs": [
        {
          "output_type": "execute_result",
          "data": {
            "text/plain": [
              "7"
            ]
          },
          "metadata": {},
          "execution_count": 24
        }
      ]
    },
    {
      "cell_type": "code",
      "source": [
        "name[0:3]"
      ],
      "metadata": {
        "colab": {
          "base_uri": "https://localhost:8080/",
          "height": 35
        },
        "id": "knHyLPWs4WXo",
        "outputId": "2d15155f-9d44-4b61-f1ff-0ff46e49886e"
      },
      "execution_count": null,
      "outputs": [
        {
          "output_type": "execute_result",
          "data": {
            "application/vnd.google.colaboratory.intrinsic+json": {
              "type": "string"
            },
            "text/plain": [
              "'ron'"
            ]
          },
          "metadata": {},
          "execution_count": 25
        }
      ]
    },
    {
      "cell_type": "code",
      "source": [
        "name[::3]"
      ],
      "metadata": {
        "colab": {
          "base_uri": "https://localhost:8080/",
          "height": 35
        },
        "id": "gGowBNj04bRq",
        "outputId": "ed10bd9a-e226-42e8-a6d1-020d030818e9"
      },
      "execution_count": null,
      "outputs": [
        {
          "output_type": "execute_result",
          "data": {
            "application/vnd.google.colaboratory.intrinsic+json": {
              "type": "string"
            },
            "text/plain": [
              "'rao'"
            ]
          },
          "metadata": {},
          "execution_count": 26
        }
      ]
    },
    {
      "cell_type": "code",
      "source": [
        "name[0:3:2]"
      ],
      "metadata": {
        "colab": {
          "base_uri": "https://localhost:8080/",
          "height": 35
        },
        "id": "W62q4Upn4hda",
        "outputId": "8f9fbbf5-a38d-462e-8080-7a70db4e75df"
      },
      "execution_count": null,
      "outputs": [
        {
          "output_type": "execute_result",
          "data": {
            "application/vnd.google.colaboratory.intrinsic+json": {
              "type": "string"
            },
            "text/plain": [
              "'rn'"
            ]
          },
          "metadata": {},
          "execution_count": 28
        }
      ]
    },
    {
      "cell_type": "code",
      "source": [
        "print (\"cristiano \" + name)"
      ],
      "metadata": {
        "colab": {
          "base_uri": "https://localhost:8080/"
        },
        "id": "p9f08PtH5EFN",
        "outputId": "5fa6bc7f-9c20-4371-c82b-ef67310370e8"
      },
      "execution_count": null,
      "outputs": [
        {
          "output_type": "stream",
          "name": "stdout",
          "text": [
            "cristiano ronaldo\n"
          ]
        }
      ]
    },
    {
      "cell_type": "code",
      "source": [
        "b = 16\n",
        "h = 25\n",
        "area = 1/2*b*h\n",
        "print (area)\n"
      ],
      "metadata": {
        "colab": {
          "base_uri": "https://localhost:8080/"
        },
        "id": "_FfFbMLf5nPN",
        "outputId": "6a6d22fd-1595-4489-b6e3-0840c60aa467"
      },
      "execution_count": null,
      "outputs": [
        {
          "output_type": "stream",
          "name": "stdout",
          "text": [
            "200.0\n"
          ]
        }
      ]
    },
    {
      "cell_type": "code",
      "source": [
        "name1 = \" I am Ironman.\"\n",
        "print ( name1[6:15] )"
      ],
      "metadata": {
        "colab": {
          "base_uri": "https://localhost:8080/"
        },
        "id": "XRirEdhr6IIJ",
        "outputId": "cf42ee1e-26b4-43de-cc0f-6e699372f387"
      },
      "execution_count": null,
      "outputs": [
        {
          "output_type": "stream",
          "name": "stdout",
          "text": [
            "Ironman.\n"
          ]
        }
      ]
    },
    {
      "cell_type": "code",
      "source": [
        "name1 [-7:-2]"
      ],
      "metadata": {
        "colab": {
          "base_uri": "https://localhost:8080/",
          "height": 35
        },
        "id": "76FhPAyz62Ad",
        "outputId": "25e9f239-6bb8-476b-c6e1-01d85d7213b8"
      },
      "execution_count": null,
      "outputs": [
        {
          "output_type": "execute_result",
          "data": {
            "application/vnd.google.colaboratory.intrinsic+json": {
              "type": "string"
            },
            "text/plain": [
              "'ronma'"
            ]
          },
          "metadata": {},
          "execution_count": 36
        }
      ]
    },
    {
      "cell_type": "code",
      "source": [
        "name2 = \"Lamborghini \"\n",
        "name3 = \"looks so\"\n",
        "name4 = \" classy.\"\n",
        "print (name2+name3+name4)"
      ],
      "metadata": {
        "colab": {
          "base_uri": "https://localhost:8080/"
        },
        "id": "jhOOi33R7pPX",
        "outputId": "787a4bdc-6b80-4fe9-9a05-17de6631faef"
      },
      "execution_count": null,
      "outputs": [
        {
          "output_type": "stream",
          "name": "stdout",
          "text": [
            "Lamborghini looks so classy.\n"
          ]
        }
      ]
    },
    {
      "cell_type": "code",
      "source": [
        "p = float (input ('p =  '))\n",
        "t = float (input ('t = '))\n",
        "r = float (input ('r =  '))\n",
        "ptr = ((t - p)* 100 ) / (p* r)\n",
        "print (ptr)"
      ],
      "metadata": {
        "colab": {
          "base_uri": "https://localhost:8080/"
        },
        "id": "aeg86UK98VW-",
        "outputId": "30e75814-a814-4a40-9c2a-cfe7add5bb74"
      },
      "execution_count": null,
      "outputs": [
        {
          "output_type": "stream",
          "name": "stdout",
          "text": [
            "p =  4\n",
            "t = 50\n",
            "r =  10\n",
            "115.0\n"
          ]
        }
      ]
    },
    {
      "cell_type": "code",
      "source": [
        "cost = 5\n",
        "paid = 10\n",
        "returns = (paid - cost)\n",
        "print (returns)"
      ],
      "metadata": {
        "colab": {
          "base_uri": "https://localhost:8080/"
        },
        "id": "A2hO7EBtHJAq",
        "outputId": "24a1e56b-776d-4d73-a662-f7a17e18f2d9"
      },
      "execution_count": null,
      "outputs": [
        {
          "output_type": "stream",
          "name": "stdout",
          "text": [
            "5\n"
          ]
        }
      ]
    },
    {
      "cell_type": "code",
      "source": [
        "2 * (3 + 9) / 5"
      ],
      "metadata": {
        "colab": {
          "base_uri": "https://localhost:8080/"
        },
        "id": "YWzJgzgqMsoJ",
        "outputId": "0c9a5bd4-cf72-40ee-ba1e-636f9a4c6158"
      },
      "execution_count": null,
      "outputs": [
        {
          "output_type": "execute_result",
          "data": {
            "text/plain": [
              "4.8"
            ]
          },
          "metadata": {},
          "execution_count": 41
        }
      ]
    },
    {
      "cell_type": "code",
      "source": [
        "'hello' + 1"
      ],
      "metadata": {
        "colab": {
          "base_uri": "https://localhost:8080/",
          "height": 165
        },
        "id": "H41VG9x_WQry",
        "outputId": "fbb63132-347b-4c9d-c612-cf45fe5ef998"
      },
      "execution_count": null,
      "outputs": [
        {
          "output_type": "error",
          "ename": "TypeError",
          "evalue": "ignored",
          "traceback": [
            "\u001b[0;31m---------------------------------------------------------------------------\u001b[0m",
            "\u001b[0;31mTypeError\u001b[0m                                 Traceback (most recent call last)",
            "\u001b[0;32m<ipython-input-1-41bee7ab6d33>\u001b[0m in \u001b[0;36m<module>\u001b[0;34m()\u001b[0m\n\u001b[0;32m----> 1\u001b[0;31m \u001b[0;34m'hello'\u001b[0m \u001b[0;34m+\u001b[0m \u001b[0;36m1\u001b[0m\u001b[0;34m\u001b[0m\u001b[0;34m\u001b[0m\u001b[0m\n\u001b[0m",
            "\u001b[0;31mTypeError\u001b[0m: can only concatenate str (not \"int\") to str"
          ]
        }
      ]
    },
    {
      "cell_type": "code",
      "source": [
        "if (1>0) :\n",
        "  print(1+1)\n"
      ],
      "metadata": {
        "colab": {
          "base_uri": "https://localhost:8080/"
        },
        "id": "r_Jql_mABHko",
        "outputId": "a29d050f-62a7-430c-c168-cc310b0f88a3"
      },
      "execution_count": null,
      "outputs": [
        {
          "output_type": "stream",
          "name": "stdout",
          "text": [
            "2\n"
          ]
        }
      ]
    },
    {
      "cell_type": "code",
      "source": [
        "x = float (input ('x =  '))\n",
        "if x < 40:\n",
        "  print(\"fail\")\n",
        "if x >80:\n",
        "  print(\"A\")\n",
        "if 40 < x < 80:\n",
        "  print(\"B\")\n",
        "if x > 100 and x < 0:\n",
        "  print(\"Invalid Marks\")"
      ],
      "metadata": {
        "colab": {
          "base_uri": "https://localhost:8080/"
        },
        "id": "Jg5PKuVqBgBD",
        "outputId": "c0c5e2a8-96e7-4aae-f9bc-7c2b4ae266dd"
      },
      "execution_count": null,
      "outputs": [
        {
          "output_type": "stream",
          "name": "stdout",
          "text": [
            "x =  200\n",
            "A\n"
          ]
        }
      ]
    },
    {
      "cell_type": "code",
      "source": [
        "P1 = float (input('P1=  '))\n",
        "P2 = float (input('P2=  '))\n",
        "Q1 = float (input('Q1=  '))\n",
        "Q2 = float (input('Q2=  '))\n",
        "\n",
        "(Q2 - Q1) * P1 /  (P2 - P1) * Q1\n",
        "print(EL)"
      ],
      "metadata": {
        "id": "zZsX_et7Z7SZ",
        "colab": {
          "base_uri": "https://localhost:8080/"
        },
        "outputId": "993c0941-7d36-4b45-e912-c659319550bc"
      },
      "execution_count": null,
      "outputs": [
        {
          "output_type": "stream",
          "name": "stdout",
          "text": [
            "P1=  3\n",
            "P2=  3.75\n",
            "Q1=  10\n",
            "Q2=  8\n",
            "-11.25\n"
          ]
        }
      ]
    },
    {
      "cell_type": "code",
      "source": [
        "x = 5\n",
        "while 3 < x < 7 :\n",
        "  print(i)\n",
        "  x += 1\n",
        "\n",
        "\n",
        "\n",
        "\n",
        "\n",
        "\n",
        "\n"
      ],
      "metadata": {
        "colab": {
          "base_uri": "https://localhost:8080/"
        },
        "id": "pOJMT0xXa_Gd",
        "outputId": "184b42c3-13fa-45f1-95d1-6c6a09e0b833"
      },
      "execution_count": null,
      "outputs": [
        {
          "output_type": "stream",
          "name": "stdout",
          "text": [
            "6\n",
            "6\n"
          ]
        }
      ]
    },
    {
      "cell_type": "code",
      "source": [
        "i = 1\n",
        "while i < 6:\n",
        "  print(i)\n",
        "  i += 1\n"
      ],
      "metadata": {
        "colab": {
          "base_uri": "https://localhost:8080/"
        },
        "id": "KiZ-9Ls9cIX9",
        "outputId": "9fb8a4d7-fc9a-41d9-915f-604134ad2956"
      },
      "execution_count": null,
      "outputs": [
        {
          "output_type": "stream",
          "name": "stdout",
          "text": [
            "1\n",
            "2\n",
            "3\n",
            "4\n",
            "5\n"
          ]
        }
      ]
    },
    {
      "cell_type": "code",
      "source": [
        "test_list = ['Akash', 'Nikhil', 'Manjeet', 'akshat']\n",
        "check = 'A'"
      ],
      "metadata": {
        "id": "vJSSzEslh_-n"
      },
      "execution_count": null,
      "outputs": []
    },
    {
      "cell_type": "code",
      "source": [
        "import numpy as np\n",
        "import pandas as pd\n",
        "\n",
        "np.array([[1,'A', 90] , [2, 'B', 85] , ])\n"
      ],
      "metadata": {
        "id": "v7kbmJzcKNgI"
      },
      "execution_count": null,
      "outputs": []
    },
    {
      "cell_type": "code",
      "source": [
        "A = 5 / 5\n",
        "print (A)\n"
      ],
      "metadata": {
        "colab": {
          "base_uri": "https://localhost:8080/"
        },
        "id": "5anrQYETd8nk",
        "outputId": "5035ca39-9211-46b3-a562-b375c82c0120"
      },
      "execution_count": null,
      "outputs": [
        {
          "output_type": "stream",
          "name": "stdout",
          "text": [
            "1.0\n"
          ]
        }
      ]
    },
    {
      "cell_type": "code",
      "source": [
        "List = [0,1,2,\"king\",4,5]\n",
        "List[0:4]"
      ],
      "metadata": {
        "colab": {
          "base_uri": "https://localhost:8080/"
        },
        "id": "ID0IbA--h15_",
        "outputId": "0838e140-a871-42ea-dd1b-ad1591aebee6"
      },
      "execution_count": null,
      "outputs": [
        {
          "output_type": "execute_result",
          "data": {
            "text/plain": [
              "[0, 1, 2, 'king']"
            ]
          },
          "metadata": {},
          "execution_count": 2
        }
      ]
    },
    {
      "cell_type": "code",
      "source": [
        "List[-5:-2]"
      ],
      "metadata": {
        "colab": {
          "base_uri": "https://localhost:8080/"
        },
        "id": "iMGeg4bPiDjF",
        "outputId": "bc1170ba-0043-40de-9c54-1c23a86850a7"
      },
      "execution_count": null,
      "outputs": [
        {
          "output_type": "execute_result",
          "data": {
            "text/plain": [
              "[1, 2, 'king']"
            ]
          },
          "metadata": {},
          "execution_count": 3
        }
      ]
    },
    {
      "cell_type": "code",
      "source": [
        "def palindrome(kk):\n",
        " return kk == kk[::1] \n",
        " kk = \"22022022\"\n",
        " ans = palindrome(kk)\n",
        " if ans :\n",
        "   print(\"yes\")\n",
        " else:\n",
        "  print(\"no\")"
      ],
      "metadata": {
        "id": "jusHKcmIiWDs"
      },
      "execution_count": null,
      "outputs": []
    },
    {
      "cell_type": "code",
      "source": [
        "def elast(price1,box1,price2,box2):\n",
        "  elasticity = (box2 - box1) / (price2 - price1)\n",
        "  return (elasticity)\n",
        "  \n",
        "def scale_elast(elasticity):\n",
        "  if elasticity == 0 : \n",
        "    return 'Perfectly Inelastic'\n",
        "  elif elasticity < 1 :\n",
        "    return 'Relatively inelastic'\n",
        "  elif elasticity == 1 : \n",
        "    return 'Unit Elastic'\n",
        "  elif elasticity > 1 : \n",
        "    return 'Relatively Elastic'\n",
        "\n",
        "price1 = float(input('Enter the prior price : '))\n",
        "box1 = float(input('Enter the prior box : '))\n",
        "price2 = float(input('Enter the latter price : '))\n",
        "box2 = float(input('Enter the latter box : '))\n",
        "\n",
        "elasticity = elast(price1,box1,price2,box2)\n",
        "print('Elasticity = ',elasticity)\n",
        "\n",
        "Ed = scale_elast(elasticity)\n",
        "print('Elasticity of product = ', Ed)"
      ],
      "metadata": {
        "colab": {
          "base_uri": "https://localhost:8080/"
        },
        "id": "zNJ0MANCjXlr",
        "outputId": "ae0e11a5-bf58-4214-8ad1-15f84d14271b"
      },
      "execution_count": null,
      "outputs": [
        {
          "output_type": "stream",
          "name": "stdout",
          "text": [
            "Enter the prior price : 5\n",
            "Enter the prior box : 2\n",
            "Enter the latter price : 8\n",
            "Enter the latter box : 1\n",
            "Elasticity =  -0.3333333333333333\n",
            "Elasticity of product =  Relatively inelastic\n"
          ]
        }
      ]
    },
    {
      "cell_type": "code",
      "source": [
        " #Example of for loop\n",
        "\n",
        "for i in range(0, 8):\n",
        "    print(i)"
      ],
      "metadata": {
        "colab": {
          "base_uri": "https://localhost:8080/"
        },
        "id": "jBwmiPg07ZHi",
        "outputId": "9404b0a6-2be7-4b0b-e8f5-a21c98a5a658"
      },
      "execution_count": null,
      "outputs": [
        {
          "output_type": "stream",
          "name": "stdout",
          "text": [
            "0\n",
            "1\n",
            "2\n",
            "3\n",
            "4\n",
            "5\n",
            "6\n",
            "7\n"
          ]
        }
      ]
    },
    {
      "cell_type": "code",
      "source": [
        "i = 1\n",
        "while i < 11:\n",
        "  print(i)\n",
        "  i += 0.5\n"
      ],
      "metadata": {
        "colab": {
          "base_uri": "https://localhost:8080/"
        },
        "id": "hi3H0KiSkvb3",
        "outputId": "d57be40f-d968-4d99-b2c5-4ebcfeff2914"
      },
      "execution_count": null,
      "outputs": [
        {
          "output_type": "stream",
          "name": "stdout",
          "text": [
            "1\n",
            "1.5\n",
            "2.0\n",
            "2.5\n",
            "3.0\n",
            "3.5\n",
            "4.0\n",
            "4.5\n",
            "5.0\n",
            "5.5\n",
            "6.0\n",
            "6.5\n",
            "7.0\n",
            "7.5\n",
            "8.0\n",
            "8.5\n",
            "9.0\n",
            "9.5\n",
            "10.0\n",
            "10.5\n"
          ]
        }
      ]
    },
    {
      "cell_type": "code",
      "source": [
        "i = 2\n",
        "while i < 8:\n",
        "  print(i)\n",
        "  if i == 6:\n",
        "    break\n",
        "  i += 2\n"
      ],
      "metadata": {
        "colab": {
          "base_uri": "https://localhost:8080/"
        },
        "id": "bkqSdaMW4SU0",
        "outputId": "b5271791-ba6b-46d0-cce9-b386df167865"
      },
      "execution_count": null,
      "outputs": [
        {
          "output_type": "stream",
          "name": "stdout",
          "text": [
            "2\n",
            "4\n",
            "6\n"
          ]
        }
      ]
    },
    {
      "cell_type": "code",
      "source": [
        "i = 8\n",
        "while i < 25:\n",
        "  print(i)\n",
        "  i += 3\n",
        "else:\n",
        "  print(\"i is no longer less than 25\")"
      ],
      "metadata": {
        "colab": {
          "base_uri": "https://localhost:8080/"
        },
        "id": "oqABhVv05yo8",
        "outputId": "f24e5458-f868-4fce-dbd6-4763ea69d66f"
      },
      "execution_count": null,
      "outputs": [
        {
          "output_type": "stream",
          "name": "stdout",
          "text": [
            "8\n",
            "11\n",
            "14\n",
            "17\n",
            "20\n",
            "23\n",
            "i is no longer less than 25\n"
          ]
        }
      ]
    },
    {
      "cell_type": "code",
      "source": [
        "fruits = [\"apple\", \"banana\", \"cherry\"]\n",
        "\n",
        "for x in fruits:\n",
        "  print(x)\n",
        "  "
      ],
      "metadata": {
        "colab": {
          "base_uri": "https://localhost:8080/"
        },
        "id": "Ish_C-1F4iwo",
        "outputId": "87c29dad-ca6b-4863-ef84-a49cde9353ac"
      },
      "execution_count": null,
      "outputs": [
        {
          "output_type": "stream",
          "name": "stdout",
          "text": [
            "apple\n",
            "banana\n",
            "cherry\n"
          ]
        }
      ]
    },
    {
      "cell_type": "code",
      "source": [
        "#fruits = [\"apple\", \"banana\", \"cherry\"]\n",
        "snacks = [\"bhats\",\"samosa\", \"biscuits\",\"bomos\",\"chocolates\",\"oats\"]\n",
        "for menu in snacks:\n",
        "  if (menu[0] == \"b\"):\n",
        "    print(menu)\n",
        "#for x in fruits:\n",
        "#  print(x)"
      ],
      "metadata": {
        "colab": {
          "base_uri": "https://localhost:8080/"
        },
        "id": "dSx7Lvy-6iNb",
        "outputId": "3a8987cd-f6c2-4658-c30a-47c8650d274b"
      },
      "execution_count": null,
      "outputs": [
        {
          "output_type": "stream",
          "name": "stdout",
          "text": [
            "bhats\n",
            "biscuits\n",
            "bomos\n"
          ]
        }
      ]
    },
    {
      "cell_type": "code",
      "source": [
        "#chap4 ex5\n",
        "\n",
        "def fred():\n",
        "  print(\"Zap\")\n",
        "def jane():\n",
        "  print(\"ABC\")\n",
        "jane()\n",
        "fred()\n",
        "jane()"
      ],
      "metadata": {
        "colab": {
          "base_uri": "https://localhost:8080/"
        },
        "id": "DpPdrxdK8mKx",
        "outputId": "62cedf4d-a346-43cd-e06a-a9ba9405b085"
      },
      "execution_count": null,
      "outputs": [
        {
          "output_type": "stream",
          "name": "stdout",
          "text": [
            "ABC\n",
            "Zap\n",
            "ABC\n"
          ]
        }
      ]
    },
    {
      "cell_type": "code",
      "source": [
        "def computepay(Hours,rate):\n",
        "  if(Hours>40):\n",
        "    pay=(Hours-40)*1.5*rate+(40*rate)\n",
        "  else:\n",
        "    pay=Hours*rate  \n",
        "  return pay\n",
        "\n",
        "Hours = float(input(\"Enter Hour\\n\"))\n",
        "rate = float(input(\"Enter rate\\n\"))\n",
        "pay = computepay(Hours , rate)  \n",
        "print( 'pay :',pay)"
      ],
      "metadata": {
        "colab": {
          "base_uri": "https://localhost:8080/"
        },
        "id": "RJ9RjsLU82OL",
        "outputId": "5f47326d-3b3d-46e4-cb3c-3943692c8793"
      },
      "execution_count": null,
      "outputs": [
        {
          "output_type": "stream",
          "name": "stdout",
          "text": [
            "Enter Hour\n",
            "45\n",
            "Enter rate\n",
            "10\n",
            "pay : 475.0\n"
          ]
        }
      ]
    },
    {
      "cell_type": "code",
      "source": [
        "def computegrade(score):\n",
        "  if(score<0.0 or score>1.0) :\n",
        "    return(\"Score is out of range!!\")\n",
        "  elif(score>=0.9):\n",
        "    return(\"A\")\n",
        "  elif(score>=0.8):\n",
        "    return(\"B\")\n",
        "  elif(score>=0.7):\n",
        "    return(\"C\")\n",
        "  elif(score>=0.6):\n",
        "    return(\"D\")      \n",
        "  else:\n",
        "    return(\"F\")\n",
        "try:\n",
        "  score=float(input(\"Enter your score\\n\"))\n",
        "  print(computegrade(score))\n",
        "except Exception :\n",
        "  print('Enter a number!!!!!')"
      ],
      "metadata": {
        "colab": {
          "base_uri": "https://localhost:8080/"
        },
        "id": "Babf3MQA9bOE",
        "outputId": "bf947aa7-bc40-4986-b90d-ca9821c53f99"
      },
      "execution_count": null,
      "outputs": [
        {
          "output_type": "stream",
          "name": "stdout",
          "text": [
            "Enter your score\n",
            "j\n",
            "Enter a number!!!!!\n"
          ]
        }
      ]
    },
    {
      "cell_type": "code",
      "source": [
        "#chap5 ex1\n",
        "\n",
        "count=0\n",
        "total=0\n",
        "while True :\n",
        "  value=input('Enter the number\\n')\n",
        "  if (value=='done'):\n",
        "    break\n",
        "  try:\n",
        "    value1=float(value)\n",
        "  except:\n",
        "    print('Invalid input')\n",
        "  total=total+value1\n",
        "  count=count+1\n",
        "print(total,count,total/count)"
      ],
      "metadata": {
        "id": "4oXzodORK9LL"
      },
      "execution_count": null,
      "outputs": []
    },
    {
      "cell_type": "code",
      "source": [
        "#chap5ex2\n",
        "\n",
        "count=0\n",
        "list=[]\n",
        "while True :\n",
        "  element=input('Enter the number\\n')\n",
        "  if (element=='ok'):\n",
        "    break\n",
        "  try:\n",
        "    value1=float(element)\n",
        "    list.append(value1)\n",
        "    \n",
        "  except:\n",
        "    print('Invalid input')\n",
        "\n",
        "  if count==0 :\n",
        "    min_val=value1\n",
        "    max_val=value1\n",
        "  elif value1<min_val:\n",
        "    min_val=value1\n",
        "  elif value1>max_val:\n",
        "    max_val=value1\n",
        "\n",
        "  count=count+1\n",
        "print('The list of ements are :',list)\n",
        "print(min_val , max_val)"
      ],
      "metadata": {
        "colab": {
          "base_uri": "https://localhost:8080/"
        },
        "id": "y1yqfAHVLGKa",
        "outputId": "c487ccd6-df58-432b-f357-ca290170d260"
      },
      "execution_count": null,
      "outputs": [
        {
          "output_type": "stream",
          "name": "stdout",
          "text": [
            "Enter the number\n",
            "3\n",
            "Enter the number\n",
            "65\n",
            "Enter the number\n",
            "ok\n",
            "The list of ements are : [3.0, 65.0]\n",
            "3.0 65.0\n"
          ]
        }
      ]
    },
    {
      "cell_type": "code",
      "source": [
        "import numpy as np\n",
        "import pandas as np\n",
        "import matplotlib.pyplot as plt\n",
        "import saeborn as sns\n",
        "import warnings\n",
        "warning.filterwarnings('ignore')"
      ],
      "metadata": {
        "id": "cucjv8GQv7Ty"
      },
      "execution_count": null,
      "outputs": []
    }
  ]
}